{
 "cells": [
  {
   "cell_type": "markdown",
   "metadata": {},
   "source": [
    "# ODK Aggregate processing pipeline installation help.\n",
    "\n",
    "Copyright 2021 Robert McGregor"
   ]
  },
  {
   "cell_type": "markdown",
   "metadata": {},
   "source": [
    "This notebook controls the processing of odk aggregate raw data files and produces the following outputs:\n",
    "- observation sheet\n",
    "- ras sheet\n",
    "- downloads and renames photographs."
   ]
  },
  {
   "cell_type": "markdown",
   "metadata": {},
   "source": [
    "## Setup"
   ]
  },
  {
   "cell_type": "markdown",
   "metadata": {},
   "source": [
    "### Required packages:\n",
    "The ODK Aggregate processing pipeline requires the following package:\n",
    "\n",
    "- numpy\n",
    "- geopandas\n",
    "- datetime\n",
    "- os\n",
    "- argparse\n",
    "- sys\n",
    "- shutill\n",
    "- warnings\n",
    "- glob\n",
    "- xlsxwriter\n",
    "\n",
    "If you are using this notebook locally, you may need to install these packages using conda or pip. Uncomment one of the cells below by removing the hashtag('#') and run the cell by pressing **Shift+Enter**."
   ]
  },
  {
   "cell_type": "markdown",
   "metadata": {},
   "source": [
    "## Lets check what packages you have installed in your working environment.\n",
    "\n",
    "(run next cell)"
   ]
  },
  {
   "cell_type": "code",
   "execution_count": 1,
   "metadata": {},
   "outputs": [
    {
     "name": "stdout",
     "output_type": "stream",
     "text": [
      "# packages in environment at C:\\Users\\robot\\miniconda3\\envs\\odk_env:\n",
      "#\n",
      "# Name                    Version                   Build  Channel\n",
      "attrs                     20.3.0             pyhd3deb0d_0    conda-forge\n",
      "boost-cpp                 1.74.0               h54f0996_2    conda-forge\n",
      "bzip2                     1.0.8                h8ffe710_4    conda-forge\n",
      "ca-certificates           2020.12.5            h5b45459_0    conda-forge\n",
      "cairo                     1.16.0            hb19e0ff_1008    conda-forge\n",
      "certifi                   2020.12.5        py38haa244fe_1    conda-forge\n",
      "cfitsio                   3.470                h0af3d06_7    conda-forge\n",
      "click                     7.1.2              pyh9f0ad1d_0    conda-forge\n",
      "click-plugins             1.1.1                      py_0    conda-forge\n",
      "cligj                     0.7.1              pyhd8ed1ab_0    conda-forge\n",
      "curl                      7.76.0               hf1763fc_0    conda-forge\n",
      "et_xmlfile                1.0.1                   py_1001    conda-forge\n",
      "expat                     2.3.0                h39d44d4_0    conda-forge\n",
      "fiona                     1.8.18           py38h4bd599a_2    conda-forge\n",
      "fontconfig                2.13.1            h1989441_1004    conda-forge\n",
      "freetype                  2.10.4               h546665d_1    conda-forge\n",
      "freexl                    1.0.6                ha8e266a_0    conda-forge\n",
      "gdal                      3.2.2            py38hacca965_2    conda-forge\n",
      "geopandas                 0.9.0              pyhd8ed1ab_0    conda-forge\n",
      "geos                      3.9.1                h39d44d4_2    conda-forge\n",
      "geotiff                   1.6.0                h8e90983_5    conda-forge\n",
      "gettext                   0.19.8.1          h1a89ca6_1005    conda-forge\n",
      "glob2                     0.7                        py_0    conda-forge\n",
      "hdf4                      4.2.13            h0e5069d_1004    conda-forge\n",
      "hdf5                      1.10.6          nompi_h5268f04_1114    conda-forge\n",
      "icu                       68.1                 h0e60522_0    conda-forge\n",
      "intel-openmp              2020.3             h57928b3_311    conda-forge\n",
      "jdcal                     1.4.1                      py_0    conda-forge\n",
      "jpeg                      9d                   h8ffe710_0    conda-forge\n",
      "kealib                    1.4.14               h96bfa42_2    conda-forge\n",
      "krb5                      1.17.2               hbae68bd_0    conda-forge\n",
      "libblas                   3.9.0                     8_mkl    conda-forge\n",
      "libcblas                  3.9.0                     8_mkl    conda-forge\n",
      "libcurl                   7.76.0               hf1763fc_0    conda-forge\n",
      "libffi                    3.3                  h0e60522_2    conda-forge\n",
      "libgdal                   3.2.2                h48ef39c_2    conda-forge\n",
      "libglib                   2.68.0               h1e62bf3_2    conda-forge\n",
      "libiconv                  1.16                 he774522_0    conda-forge\n",
      "libkml                    1.3.0             h9859afa_1013    conda-forge\n",
      "liblapack                 3.9.0                     8_mkl    conda-forge\n",
      "libnetcdf                 4.7.4           nompi_h3a9aa94_107    conda-forge\n",
      "libpng                    1.6.37               h1d00b33_2    conda-forge\n",
      "libpq                     13.1                 h4f54205_2    conda-forge\n",
      "librttopo                 1.1.0                hb340de5_6    conda-forge\n",
      "libspatialindex           1.9.3                h39d44d4_3    conda-forge\n",
      "libspatialite             5.0.1                h6b539a6_4    conda-forge\n",
      "libssh2                   1.9.0                h680486a_6    conda-forge\n",
      "libtiff                   4.2.0                hc10be44_0    conda-forge\n",
      "libwebp-base              1.2.0                h8ffe710_2    conda-forge\n",
      "libxml2                   2.9.10               hf5bbc77_3    conda-forge\n",
      "libxslt                   1.1.33               h65864e5_2    conda-forge\n",
      "lxml                      4.6.3            py38h292cb97_0    conda-forge\n",
      "lz4-c                     1.9.3                h8ffe710_0    conda-forge\n",
      "mkl                       2020.4             hb70f87d_311    conda-forge\n",
      "munch                     2.5.0                      py_0    conda-forge\n",
      "numpy                     1.20.2           py38h09042cb_0    conda-forge\n",
      "openjpeg                  2.4.0                h48faf41_0    conda-forge\n",
      "openpyxl                  3.0.7              pyhd8ed1ab_0    conda-forge\n",
      "openssl                   1.1.1k               h8ffe710_0    conda-forge\n",
      "pandas                    1.2.3            py38h4c96930_0    conda-forge\n",
      "pcre                      8.44                 ha925a31_0    conda-forge\n",
      "pip                       21.0.1             pyhd8ed1ab_0    conda-forge\n",
      "pixman                    0.40.0               h8ffe710_0    conda-forge\n",
      "poppler                   21.03.0              h9ff6ed8_0    conda-forge\n",
      "poppler-data              0.4.10                        0    conda-forge\n",
      "postgresql                13.1                 h0f1a9bc_2    conda-forge\n",
      "proj                      8.0.0                h1cfcee9_0    conda-forge\n",
      "pyproj                    3.0.1            py38he394cdd_1    conda-forge\n",
      "python                    3.8.8           h7840368_0_cpython    conda-forge\n",
      "python-dateutil           2.8.1                      py_0    conda-forge\n",
      "python_abi                3.8                      1_cp38    conda-forge\n",
      "pytz                      2021.1             pyhd8ed1ab_0    conda-forge\n",
      "rtree                     0.9.7            py38h8b54edf_1    conda-forge\n",
      "setuptools                49.6.0           py38haa244fe_3    conda-forge\n",
      "shapely                   1.7.1            py38h2426642_4    conda-forge\n",
      "six                       1.15.0             pyh9f0ad1d_0    conda-forge\n",
      "sqlite                    3.35.3               h8ffe710_0    conda-forge\n",
      "tiledb                    2.2.7                hf84e3da_0    conda-forge\n",
      "tk                        8.6.10               h8ffe710_1    conda-forge\n",
      "vc                        14.2                 hb210afc_4    conda-forge\n",
      "vs2015_runtime            14.28.29325          h5e1d092_4    conda-forge\n",
      "wheel                     0.36.2             pyhd3deb0d_0    conda-forge\n",
      "wincertstore              0.2             py38haa244fe_1006    conda-forge\n",
      "xerces-c                  3.2.3                h0e60522_2    conda-forge\n",
      "xlrd                      2.0.1              pyhd8ed1ab_3    conda-forge\n",
      "xlsxwriter                1.3.8              pyhd8ed1ab_0    conda-forge\n",
      "xz                        5.2.5                h62dcd97_1    conda-forge\n",
      "zlib                      1.2.11            h62dcd97_1010    conda-forge\n",
      "zstd                      1.4.9                h6255e5f_0    conda-forge\n"
     ]
    }
   ],
   "source": [
    "! conda list"
   ]
  },
  {
   "cell_type": "code",
   "execution_count": 14,
   "metadata": {},
   "outputs": [
    {
     "name": "stdout",
     "output_type": "stream",
     "text": [
      "^C\n"
     ]
    }
   ],
   "source": [
    "! conda install python=3.8"
   ]
  },
  {
   "cell_type": "code",
   "execution_count": 10,
   "metadata": {
    "scrolled": true
   },
   "outputs": [
    {
     "name": "stdout",
     "output_type": "stream",
     "text": [
      "^C\n"
     ]
    }
   ],
   "source": [
    "! conda install datetime os sys shutill warnings glob"
   ]
  },
  {
   "cell_type": "code",
   "execution_count": null,
   "metadata": {},
   "outputs": [],
   "source": [
    "! pip install --user datetime os sys shutill warnings glob"
   ]
  },
  {
   "cell_type": "code",
   "execution_count": 1,
   "metadata": {},
   "outputs": [
    {
     "name": "stdout",
     "output_type": "stream",
     "text": [
      "Collecting package metadata (current_repodata.json): ...working... done\n",
      "Solving environment: ...working... failed with initial frozen solve. Retrying with flexible solve.\n",
      "Solving environment: ...working... failed with repodata from current_repodata.json, will retry with next repodata source.\n",
      "Collecting package metadata (repodata.json): ...working... done\n",
      "Solving environment: ...working... failed with initial frozen solve. Retrying with flexible solve.\n",
      "Solving environment: ...working... \n",
      "Found conflicts! Looking for incompatible packages.\n",
      "This can take several minutes.  Press CTRL-C to abort.\n",
      "failed\n"
     ]
    },
    {
     "name": "stderr",
     "output_type": "stream",
     "text": [
      "\n",
      "Building graph of deps:   0%|          | 0/8 [00:00<?, ?it/s]\n",
      "Examining geopandas:   0%|          | 0/8 [00:00<?, ?it/s]   \n",
      "Examining @/win-64::__cuda==10.2=0:  12%|#2        | 1/8 [00:08<01:00,  8.67s/it]\n",
      "Examining @/win-64::__cuda==10.2=0:  25%|##5       | 2/8 [00:08<00:26,  4.33s/it]\n",
      "Examining python=3.8:  25%|##5       | 2/8 [00:08<00:26,  4.33s/it]              \n",
      "Examining numpy:  38%|###7      | 3/8 [00:09<00:21,  4.33s/it]     \n",
      "Examining numpy:  50%|#####     | 4/8 [00:09<00:12,  3.12s/it]\n",
      "Examining @/win-64::__archspec==1=x86_64:  50%|#####     | 4/8 [00:13<00:12,  3.12s/it]\n",
      "Examining @/win-64::__archspec==1=x86_64:  62%|######2   | 5/8 [00:13<00:10,  3.46s/it]\n",
      "Examining xlsxwriter:  62%|######2   | 5/8 [00:13<00:10,  3.46s/it]                    \n",
      "Examining @/win-64::__win==0=0:  75%|#######5  | 6/8 [00:14<00:06,  3.46s/it]\n",
      "Examining @/win-64::__win==0=0:  88%|########7 | 7/8 [00:14<00:02,  2.57s/it]\n",
      "Examining argparse:  88%|########7 | 7/8 [00:14<00:02,  2.57s/it]            \n",
      "                                                                 \n",
      "\n",
      "Determining conflicts:   0%|          | 0/8 [00:00<?, ?it/s]\n",
      "Examining conflict for numpy python xlsxwriter geopandas:   0%|          | 0/8 [00:00<?, ?it/s]\n",
      "Examining conflict for numpy geopandas:  12%|#2        | 1/8 [00:05<00:39,  5.68s/it]          \n",
      "Examining conflict for numpy geopandas:  25%|##5       | 2/8 [00:05<00:17,  2.84s/it]\n",
      "Examining conflict for geopandas python numpy xlsxwriter argparse:  25%|##5       | 2/8 [00:06<00:17,  2.84s/it]\n",
      "Examining conflict for geopandas python numpy xlsxwriter argparse:  38%|###7      | 3/8 [00:06<00:10,  2.11s/it]\n",
      "Examining conflict for xlsxwriter geopandas:  38%|###7      | 3/8 [00:06<00:10,  2.11s/it]                      \n",
      "Examining conflict for xlsxwriter geopandas:  50%|#####     | 4/8 [00:06<00:06,  1.61s/it]\n",
      "Examining conflict for numpy xlsxwriter geopandas:  50%|#####     | 4/8 [00:06<00:06,  1.61s/it]\n",
      "Examining conflict for numpy xlsxwriter geopandas:  62%|######2   | 5/8 [00:06<00:03,  1.25s/it]\n",
      "Examining conflict for python geopandas:  62%|######2   | 5/8 [00:09<00:03,  1.25s/it]          \n",
      "Examining conflict for python geopandas:  75%|#######5  | 6/8 [00:09<00:03,  1.53s/it]\n",
      "                                                                                      \n",
      "\n",
      "UnsatisfiableError: The following specifications were found\n",
      "to be incompatible with the existing python installation in your environment:\n",
      "\n",
      "Specifications:\n",
      "\n",
      "  - argparse -> python=2.6\n",
      "\n",
      "Your python: python=3.8\n",
      "\n",
      "If python is on the left-most side of the chain, that's the version you've asked for.\n",
      "When python appears to the right, that indicates that the thing on the left is somehow\n",
      "not available for the python version you are constrained to. Note that conda will not\n",
      "change your python version to a different minor version unless you explicitly specify\n",
      "that.\n",
      "\n",
      "The following specifications were found to be incompatible with each other:\n",
      "\n",
      "Output in format: Requested package -> Available versions\n",
      "\n",
      "Package vs2010_runtime conflicts for:\n",
      "xlsxwriter -> python[version='>=2.7'] -> vs2010_runtime\n",
      "geopandas -> python -> vs2010_runtime\n",
      "\n",
      "Package zlib conflicts for:\n",
      "python=3.8 -> sqlite[version='>=3.33.0,<4.0a0'] -> zlib[version='>=1.2.11,<1.3.0a0']\n",
      "geopandas -> matplotlib-base -> zlib[version='>=1.2.11,<1.3.0a0']\n",
      "\n",
      "Package vs2008_runtime conflicts for:\n",
      "numpy -> python[version='>=2.7,<2.8.0a0'] -> vs2008_runtime[version='>=9.0.30729.1,<10.0a0']\n",
      "geopandas -> python -> vs2008_runtime\n",
      "xlsxwriter -> python[version='>=2.7'] -> vs2008_runtime\n",
      "\n",
      "Package vs2015_runtime conflicts for:\n",
      "numpy -> vs2015_runtime[version='>=14.16.27012|>=14.16.27012,<15.0a0']\n",
      "numpy -> vc[version='>=14.1,<15.0a0'] -> vs2015_runtime[version='>=14.0.25123,<15.0a0|>=14.0.25420|>=14.15.26706|>=14.16.27033|>=14.28.29325|>=14.27.29016']\n",
      "\n",
      "Package sqlite conflicts for:\n",
      "geopandas -> python[version='>=3.6'] -> sqlite[version='>=3.25.3,<4.0a0|>=3.26.0,<4.0a0|>=3.28.0,<4.0a0|>=3.30.1,<4.0a0|>=3.32.3,<4.0a0|>=3.33.0,<4.0a0|>=3.34.0,<4.0a0|>=3.31.1,<4.0a0|>=3.30.0,<4.0a0|>=3.29.0,<4.0a0|>=3.27.2,<4.0a0|>=3.35.1,<4.0a0']\n",
      "python=3.8 -> sqlite[version='>=3.30.0,<4.0a0|>=3.30.1,<4.0a0|>=3.32.3,<4.0a0|>=3.33.0,<4.0a0|>=3.34.0,<4.0a0|>=3.31.1,<4.0a0']\n",
      "numpy -> python[version='>=3.9,<3.10.0a0'] -> sqlite[version='>=3.25.3,<4.0a0|>=3.26.0,<4.0a0|>=3.28.0,<4.0a0|>=3.30.1,<4.0a0|>=3.32.3,<4.0a0|>=3.33.0,<4.0a0|>=3.34.0,<4.0a0|>=3.31.1,<4.0a0|>=3.29.0,<4.0a0|>=3.27.2,<4.0a0|>=3.30.0,<4.0a0|>=3.35.1,<4.0a0']\n",
      "xlsxwriter -> python[version='>=2.7'] -> sqlite[version='>=3.25.3,<4.0a0|>=3.26.0,<4.0a0|>=3.28.0,<4.0a0|>=3.30.1,<4.0a0|>=3.32.3,<4.0a0|>=3.33.0,<4.0a0|>=3.34.0,<4.0a0|>=3.31.1,<4.0a0|>=3.30.0,<4.0a0|>=3.29.0,<4.0a0|>=3.27.2,<4.0a0|>=3.35.1,<4.0a0']\n",
      "\n",
      "Package vc conflicts for:\n",
      "numpy -> vc[version='14.*|9.*|>=14,<15.0a0|>=14.1,<15.0a0']\n",
      "numpy -> python[version='>=2.7,<2.8.0a0'] -> vc[version='14|>=9,<10.0a0']\n",
      "\n"
     ]
    }
   ],
   "source": [
    "! conda install -c conda-forge numpy geopandas argparse xlsxwriter"
   ]
  },
  {
   "cell_type": "code",
   "execution_count": 2,
   "metadata": {},
   "outputs": [
    {
     "name": "stdout",
     "output_type": "stream",
     "text": [
      "pandas: 1.2.3\n",
      "numpy: 1.20.2\n",
      "geopandas: 0.9.0\n",
      "argpass: 1.1\n",
      "xlsxwriter: 1.3.8\n"
     ]
    }
   ],
   "source": [
    "import pandas; print(f\"pandas: {pandas.__version__}\")\n",
    "import numpy; print(f\"numpy: {numpy.__version__}\")\n",
    "import geopandas; print(f\"geopandas: {geopandas.__version__}\")\n",
    "import argparse; print(f\"argpass: {argparse.__version__}\")\n",
    "import xlsxwriter; print(f\"xlsxwriter: {xlsxwriter.__version__}\")"
   ]
  },
  {
   "cell_type": "markdown",
   "metadata": {},
   "source": [
    "Command arguments:\n",
    "\n",
    "- '-d', '--directory_odk', help = 'The directory containing ODK csv files.'                   \n",
    "- '-x', '--export_dir', help = 'Directory path for outputs.'               \n",
    "- '-c', '--chrome_driver', help = 'File path for the chrome extension driver.'                 \n",
    "- '-r', '--remote_desktop', help = 'Working on the remote_desktop? - Enter yes or No.',                 \n",
    "- '-v', '--veg_list_excel', help = 'Odk veg list Excel file path.',                  \n",
    "- '-s', '--shrub_list_excel', help = 'Odk shrub list Excel file path.'"
   ]
  },
  {
   "cell_type": "code",
   "execution_count": 4,
   "metadata": {},
   "outputs": [],
   "source": [
    "lista = [[], []]\n",
    "\n",
    "if lista[0]:\n",
    "    print('yes')"
   ]
  },
  {
   "cell_type": "code",
   "execution_count": null,
   "metadata": {},
   "outputs": [],
   "source": []
  }
 ],
 "metadata": {
  "kernelspec": {
   "display_name": "Python 3",
   "language": "python",
   "name": "python3"
  },
  "language_info": {
   "codemirror_mode": {
    "name": "ipython",
    "version": 3
   },
   "file_extension": ".py",
   "mimetype": "text/x-python",
   "name": "python",
   "nbconvert_exporter": "python",
   "pygments_lexer": "ipython3",
   "version": "3.8.5"
  }
 },
 "nbformat": 4,
 "nbformat_minor": 2
}
